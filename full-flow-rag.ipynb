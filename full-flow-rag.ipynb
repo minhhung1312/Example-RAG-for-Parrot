{
  "cells": [
    {
      "cell_type": "code",
      "execution_count": 1,
      "metadata": {
        "colab": {
          "base_uri": "https://localhost:8080/"
        },
        "id": "GIHOR6F0oTEj",
        "outputId": "a469e33f-f5b9-4c37-d60f-476ffc0cc16d"
      },
      "outputs": [
        {
          "name": "stdout",
          "output_type": "stream",
          "text": [
            "Requirement already satisfied: PyMuPDF in /usr/local/lib/python3.10/dist-packages (1.23.26)\n",
            "Requirement already satisfied: PyMuPDFb==1.23.22 in /usr/local/lib/python3.10/dist-packages (from PyMuPDF) (1.23.22)\n",
            "Requirement already satisfied: parrotai in /usr/local/lib/python3.10/dist-packages (0.1.18)\n",
            "Requirement already satisfied: python_dotenv in /usr/local/lib/python3.10/dist-packages (1.0.1)\n",
            "Requirement already satisfied: faiss-cpu in /usr/local/lib/python3.10/dist-packages (1.8.0)\n",
            "Requirement already satisfied: numpy in /usr/local/lib/python3.10/dist-packages (from faiss-cpu) (1.25.2)\n"
          ]
        }
      ],
      "source": [
        "!pip install PyMuPDF\n",
        "!pip install parrotai\n",
        "!pip install python_dotenv\n",
        "!pip install faiss-cpu"
      ]
    },
    {
      "cell_type": "code",
      "execution_count": 2,
      "metadata": {
        "id": "VWuY2Pk_nrOf"
      },
      "outputs": [],
      "source": [
        "import fitz\n",
        "import numpy as np\n",
        "from parrotai import ParrotAPI\n",
        "import time\n",
        "import json\n",
        "import os\n",
        "from dotenv import load_dotenv\n",
        "import faiss"
      ]
    },
    {
      "cell_type": "code",
      "execution_count": 3,
      "metadata": {
        "id": "WCgrP8l-nto6"
      },
      "outputs": [],
      "source": [
        "parrot = ParrotAPI()\n",
        "username = \"xxx\"\n",
        "password = \"xxx\"\n",
        "\n",
        "login_resp = parrot.login(username=username, password=password)"
      ]
    },
    {
      "cell_type": "code",
      "execution_count": 4,
      "metadata": {
        "id": "cVAsQ3dTnkaN"
      },
      "outputs": [],
      "source": [
        "def read_pdf_text(pdf_path, chunk=100, overlap_percentage=0.3):\n",
        "    doc = fitz.open(pdf_path)\n",
        "    texts = \"\"\n",
        "    for page in doc:\n",
        "        texts += page.get_text()\n",
        "\n",
        "    words = texts.split()\n",
        "    overlap = int(chunk * overlap_percentage)\n",
        "    step = chunk - overlap\n",
        "\n",
        "    chunks = [' '.join(words[i:i+chunk]) for i in range(0, len(words), step) if i+chunk <= len(words)]\n",
        "\n",
        "    if len(words) % step != 0:\n",
        "        chunks.append(' '.join(words[-(len(words) % step):]))\n",
        "\n",
        "    return chunks\n",
        "\n",
        "def create_embeddings(texts, model=\"gte-large\"):\n",
        "    embeddings = []\n",
        "    for text in texts:\n",
        "        resp = parrot.create_text_embedding(text=text, model=model)\n",
        "        task_id = resp['data']['task_id']\n",
        "        timeout = time.time() + 60\n",
        "        while True:\n",
        "            if time.time() > timeout:\n",
        "                break\n",
        "            time.sleep(1)\n",
        "            result = parrot.result_text_embedding(task_id=task_id)\n",
        "            if result['data']['data']['status'] == 'COMPLETED':\n",
        "                break\n",
        "\n",
        "        response = result['data']['data']['response']\n",
        "        if response == '' or response is None:\n",
        "            print(f\"The empty string from text: {text[:30]}...\")\n",
        "            continue\n",
        "        else:\n",
        "            embedding_list = json.loads(response)\n",
        "            embedding = np.array(embedding_list, dtype=np.float32)\n",
        "            embeddings.append(embedding)\n",
        "    return embeddings\n",
        "\n",
        "def create_index(vectors, use_gpu=False):\n",
        "    dimension = vectors.shape[1]\n",
        "    index = faiss.IndexFlatL2(dimension)\n",
        "\n",
        "    if use_gpu:\n",
        "        co = faiss.GpuMultipleClonerOptions()\n",
        "        co.shard = True\n",
        "        gpu_index = faiss.index_cpu_to_all_gpus(index, co=co)\n",
        "        gpu_index.add(vectors)\n",
        "        return gpu_index\n",
        "    else:\n",
        "        index.add(vectors)\n",
        "        return index\n",
        "\n",
        "def search_index(index, query_vectors, k=5):\n",
        "    D, I = index.search(query_vectors, k)\n",
        "    return D, I\n",
        "\n",
        "def save_index(index, file_path):\n",
        "    faiss.write_index(index, file_path)\n",
        "\n",
        "def load_index(file_path):\n",
        "    index = faiss.read_index(file_path)\n",
        "    return index\n",
        "\n",
        "def rag_logic(question: str, k: int = 4) -> str:\n",
        "    # 1. embedding question\n",
        "    question_embeddings = create_embeddings([question])\n",
        "    question_embeddings = np.array(question_embeddings).reshape(1, -1)\n",
        "    # 2. Search\n",
        "    distances, indices = search_index(index, question_embeddings, k=k)\n",
        "    # 3. Tạo prompt\n",
        "    found_texts = [texts[idx] for idx in indices[0]]  # Assuming documents is a list of texts\n",
        "#     prompt = f\"\"\"You are an expert in situational analysis. I will provide you with a question and some information related to that question. Please write a concise and comprehensive answer to the question. Just return only the answer, not repeat the question and relevant information.\n",
        "# Question: {question},\n",
        "# Relevant informations: {found_texts},\n",
        "# Answer:\n",
        "\n",
        "# For example:\n",
        "# Question: What is the capital of VietNam?\n",
        "# Answer:\n",
        "\n",
        "# You will only return Hanoi\n",
        "# \"\"\"\n",
        "    prompt = f\"\"\"As an expert in situational analysis, your task is to provide clear and detailed answers based solely on the information provided. Your response should directly address the question without reiterating the question or the background information provided. Aim for brevity while ensuring your answer is complete and informative.\n",
        "\n",
        "Example:\n",
        "Question: What is the capital of Vietnam?\n",
        "Relevant Information: [Any additional information that might have been provided]\n",
        "Your response should simply be, not repeat the question and relevalt information:\n",
        "'Hanoi'\n",
        "\n",
        "Please, just provide the answer in response to the question given, drawing from the relevant information if mentioned.\n",
        "Question: {question}\n",
        "Relevant information: {found_texts}\n",
        "\"\"\"\n",
        "\n",
        "    return prompt\n",
        "\n",
        "def chat_logic(question: str, max_tokens=1024, temperature=0.7, top_p=0.9, top_k=50) -> str:\n",
        "    prompt = rag_logic(question)\n",
        "    response = parrot.text_generation(\n",
        "        messages=[{\"role\": \"user\", \"content\": prompt}],\n",
        "        model=\"gemma-7b\",\n",
        "        max_tokens=max_tokens,\n",
        "        temperature=temperature,\n",
        "        top_p=top_p,\n",
        "        top_k=top_k,\n",
        "    )\n",
        "\n",
        "    if response[\"data\"][\"is_success\"]:\n",
        "        content = response[\"data\"][\"data\"][\"response\"]\n",
        "        return content\n",
        "    else:\n",
        "        return \"Unable to generate response.\""
      ]
    },
    {
      "cell_type": "code",
      "execution_count": 5,
      "metadata": {
        "id": "IFxMaqMpUZ9r"
      },
      "outputs": [],
      "source": [
        "pdf_path = 'test_rag.pdf'\n",
        "\n",
        "texts = read_pdf_text(pdf_path)\n",
        "\n",
        "text_embeddings = np.array(create_embeddings(texts)).reshape(-1, 1024)"
      ]
    },
    {
      "cell_type": "code",
      "execution_count": 6,
      "metadata": {
        "id": "ti1wrGhqUFi-"
      },
      "outputs": [],
      "source": [
        "index = create_index(np.array(text_embeddings), use_gpu=False)  # Create the index, use_gpu=True if you want to use GPU\n",
        "save_index(index, \"db.index\")\n",
        "index = load_index(\"db.index\")"
      ]
    },
    {
      "cell_type": "code",
      "execution_count": 7,
      "metadata": {
        "colab": {
          "base_uri": "https://localhost:8080/"
        },
        "id": "pXcjlwQXp0MF",
        "outputId": "55a1a57e-d135-41c4-d15b-aa17f817e355"
      },
      "outputs": [
        {
          "name": "stdout",
          "output_type": "stream",
          "text": [
            "The WindRunner has a height of 24 m and a wingspan of 80 m.\n"
          ]
        }
      ],
      "source": [
        "print(chat_logic(\"Máy bay có độ cao và sải cánh bao nhiêu?\"))"
      ]
    }
  ],
  "metadata": {
    "colab": {
      "provenance": []
    },
    "kernelspec": {
      "display_name": "Python 3",
      "name": "python3"
    },
    "language_info": {
      "name": "python"
    }
  },
  "nbformat": 4,
  "nbformat_minor": 0
}
